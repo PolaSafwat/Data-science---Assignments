{
 "cells": [
  {
   "cell_type": "code",
   "execution_count": 1,
   "metadata": {},
   "outputs": [],
   "source": [
    "import requests\n",
    "from bs4 import BeautifulSoup\n",
    "import os "
   ]
  },
  {
   "cell_type": "code",
   "execution_count": null,
   "metadata": {},
   "outputs": [],
   "source": [
    "def get_books(url):\n",
    "    file_name= 'books of ' + str(url.split('/')[-2]) + '.txt'\n",
    "    request=requests.get(url)\n",
    "    soup = BeautifulSoup(request.text,'html.parser')\n",
    "    Books = soup.find_all('article',attrs={'class':'product_pod'})\n",
    "    Rating_book={\"One\":1, \"Two\":2, \"Three\":3, \"Four\":4, \"Five\":5}\n",
    "    f = open (str(file_name),'w',encoding=\"utf-8\")\n",
    "    for book in Books:\n",
    "        f.write('Book Name: '+ str(book.find(\"h3\").get_text()) + '\\n')\n",
    "        f.write('Book Price: ' + str(book.find('p',attrs={'class':'price_color'}).get_text())[2:] + '\\n')\n",
    "        str1= str(book.find('p',attrs={'class':'star-rating'}).get('class')[1])\n",
    "        f.write('Book Rating: ' + str(Rating_book[str1]) + '\\n')\n",
    "        f.write('---------------------------------\\n')\n",
    "        f.write('---------------------------------\\n')\n",
    "    f.close()"
   ]
  },
  {
   "cell_type": "code",
   "execution_count": 13,
   "metadata": {},
   "outputs": [],
   "source": [
    "url1='https://books.toscrape.com/catalogue/category/books/travel_2/index.html'\n",
    "respone=requests.get(url1)\n",
    "soup1=BeautifulSoup(respone.text,'html.parser')\n",
    "books_categ = soup1.find_all('ul')\n",
    "books_categ_link=books_categ[2].find_all('li')\n",
    "books_categ_link\n",
    "books_categ_links=[]\n",
    "str1='https://books.toscrape.com/catalogue/category/books/'\n",
    "for link in books_categ_link:\n",
    "    linke=link.find('a').get('href')\n",
    "    linke=str1+linke[3:]\n",
    "    books_categ_links.append(linke)\n",
    "# books_categ_links\n",
    "# # books categories links list created\n",
    "# books_One_categ\n",
    "for URL_books_One_categ in  books_categ_links:\n",
    "     "
   ]
  },
  {
   "cell_type": "code",
   "execution_count": null,
   "metadata": {},
   "outputs": [],
   "source": [
    "# url1='https://books.toscrape.com/catalogue/category/books/travel_2/index.html'\n",
    "# respone=requests.get(url1)\n",
    "# soup1=BeautifulSoup(respone.text,'html.parser')\n",
    "# books_categ = soup1.find_all('ul')\n",
    "# books_categ_link=all_book[2].find_all('li')\n",
    "# books_categ_links=[]\n",
    "# str1='https://books.toscrape.com/catalogue/category/books/'\n",
    "# for link in books_categ_link:\n",
    "#     linke=link.find('a').get('href')\n",
    "#     linke=str1+linke[3:]\n",
    "#     books_categ_links.append(linke)\n",
    "# books_categ_links"
   ]
  },
  {
   "cell_type": "code",
   "execution_count": null,
   "metadata": {},
   "outputs": [],
   "source": [
    "# books_One_categ = soup_of_books_One_categ.find_all('div',attrs={'class':'image_container'})\n",
    "# books_categ_links"
   ]
  },
  {
   "cell_type": "code",
   "execution_count": null,
   "metadata": {},
   "outputs": [],
   "source": [
    "# file1=\"polas\"\n",
    "# def createDir(dir_name):\n",
    "#     try:    \n",
    "#         os.mkdir(dir_name)\n",
    "#         return True;\n",
    "#     except:\n",
    "#         return False\n",
    "\n",
    "# createDir(f'C:/Users\\polas\\Desktop/Machine learning/Data science - Assignments/Assignment 8/{file1}')"
   ]
  },
  {
   "cell_type": "code",
   "execution_count": null,
   "metadata": {},
   "outputs": [],
   "source": [
    "# books_categ_links[3].split('/')[-2][:-2]"
   ]
  },
  {
   "cell_type": "code",
   "execution_count": null,
   "metadata": {},
   "outputs": [],
   "source": []
  }
 ],
 "metadata": {
  "kernelspec": {
   "display_name": "Python 3",
   "language": "python",
   "name": "python3"
  },
  "language_info": {
   "codemirror_mode": {
    "name": "ipython",
    "version": 3
   },
   "file_extension": ".py",
   "mimetype": "text/x-python",
   "name": "python",
   "nbconvert_exporter": "python",
   "pygments_lexer": "ipython3",
   "version": "3.8.3"
  }
 },
 "nbformat": 4,
 "nbformat_minor": 4
}
