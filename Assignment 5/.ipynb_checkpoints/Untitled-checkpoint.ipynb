{
 "cells": [
  {
   "cell_type": "markdown",
   "metadata": {},
   "source": [
    "## Make project containing different types of files (jpg, png, mp3, txt, avi, mp4, etc..) then read all files and rename these files with random names except for jpg & mp3 they will stay with no changes."
   ]
  },
  {
   "cell_type": "code",
   "execution_count": 1,
   "metadata": {},
   "outputs": [],
   "source": [
    "import os"
   ]
  },
  {
   "cell_type": "code",
   "execution_count": 2,
   "metadata": {},
   "outputs": [],
   "source": [
    "import time"
   ]
  },
  {
   "cell_type": "code",
   "execution_count": 3,
   "metadata": {},
   "outputs": [],
   "source": [
    "import random"
   ]
  },
  {
   "cell_type": "code",
   "execution_count": 4,
   "metadata": {},
   "outputs": [],
   "source": [
    "import shutil\n"
   ]
  },
  {
   "cell_type": "code",
   "execution_count": 5,
   "metadata": {},
   "outputs": [],
   "source": [
    "import string"
   ]
  },
  {
   "cell_type": "code",
   "execution_count": 6,
   "metadata": {},
   "outputs": [],
   "source": [
    "def change_name():\n",
    "     return ''.join(random.choice(string.ascii_letters) for y in range(5))"
   ]
  },
  {
   "cell_type": "code",
   "execution_count": 7,
   "metadata": {},
   "outputs": [],
   "source": [
    "def read_folder(folder):\n",
    "    return os.listdir(folder)"
   ]
  },
  {
   "cell_type": "code",
   "execution_count": 13,
   "metadata": {},
   "outputs": [],
   "source": [
    "folder1=read_folder('../../New_folder/')"
   ]
  },
  {
   "cell_type": "code",
   "execution_count": 9,
   "metadata": {},
   "outputs": [
    {
     "data": {
      "text/plain": [
       "['25.JPG',\n",
       " '26.png',\n",
       " 'cover003.png',\n",
       " 'cover004.png',\n",
       " 'cover023.png',\n",
       " 'cover024.png',\n",
       " 'cover043.png',\n",
       " 'cover046.png',\n",
       " 'Desert Rose - Sting.mp3',\n",
       " 'El_donia_resha_MohMounir.mp3',\n",
       " 'factors of GEN.pdf',\n",
       " 'Fall Again.mp3',\n",
       " 'Sl33py-H0ll0w-1999-1080p-hdp0pc0rns.mp4']"
      ]
     },
     "execution_count": 9,
     "metadata": {},
     "output_type": "execute_result"
    }
   ],
   "source": [
    "folder1"
   ]
  },
  {
   "cell_type": "code",
   "execution_count": 10,
   "metadata": {},
   "outputs": [],
   "source": [
    "for file in folder1:\n",
    "    if file.split('.')[-1] != 'mp3':\n",
    "        file_name = file.split('.')[0]\n",
    "        extension = file.split('.')[-1]\n",
    "        new_name =  change_name()\n",
    "        os.rename(f'../../New_folder/{file}', f'../../New_folder/{new_name}.{extension} ')\n",
    "        time.sleep(1)"
   ]
  },
  {
   "cell_type": "code",
   "execution_count": null,
   "metadata": {},
   "outputs": [],
   "source": [
    "folder1[-2].split('.')[-1]"
   ]
  },
  {
   "cell_type": "code",
   "execution_count": 14,
   "metadata": {},
   "outputs": [
    {
     "data": {
      "text/plain": [
       "['bJisW.png',\n",
       " 'bzcOy.pdf',\n",
       " 'Desert Rose - Sting.mp3',\n",
       " 'El_donia_resha_MohMounir.mp3',\n",
       " 'Fall Again.mp3',\n",
       " 'FaUmn.png',\n",
       " 'GJiNB.png',\n",
       " 'hXyfG.png',\n",
       " 'JuqYB.png',\n",
       " 'kHbPU.mp4',\n",
       " 'vwyGc.png',\n",
       " 'XbZMv.png',\n",
       " 'xgPod.JPG']"
      ]
     },
     "execution_count": 14,
     "metadata": {},
     "output_type": "execute_result"
    }
   ],
   "source": [
    "folder1"
   ]
  },
  {
   "cell_type": "code",
   "execution_count": null,
   "metadata": {},
   "outputs": [],
   "source": []
  }
 ],
 "metadata": {
  "kernelspec": {
   "display_name": "Python 3",
   "language": "python",
   "name": "python3"
  },
  "language_info": {
   "codemirror_mode": {
    "name": "ipython",
    "version": 3
   },
   "file_extension": ".py",
   "mimetype": "text/x-python",
   "name": "python",
   "nbconvert_exporter": "python",
   "pygments_lexer": "ipython3",
   "version": "3.8.3"
  }
 },
 "nbformat": 4,
 "nbformat_minor": 4
}
